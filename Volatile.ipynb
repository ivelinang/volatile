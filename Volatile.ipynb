{
 "cells": [
  {
   "cell_type": "markdown",
   "metadata": {
    "id": "qw0v71YRo2K5"
   },
   "source": [
    "# Volatile: your day-to-day trading companion.\n",
    "Welcome to **Volatile**. Please run the code in the prescribed order by clicking the \"Play\" button on the left of each cell. "
   ]
  },
  {
   "cell_type": "code",
   "execution_count": null,
   "metadata": {
    "id": "hUM0i6Kuj0x8"
   },
   "outputs": [],
   "source": [
    "# specify path to current directory\n",
    "%cd /content"
   ]
  },
  {
   "cell_type": "code",
   "execution_count": 2,
   "metadata": {
    "id": "f-aXK39Qkj2D"
   },
   "outputs": [],
   "source": [
    "# for clean installation, remove previous folders named \"volatile\", if any\n",
    "%rm -rf volatile"
   ]
  },
  {
   "cell_type": "code",
   "execution_count": null,
   "metadata": {
    "id": "IwtldhGDP_vf"
   },
   "outputs": [],
   "source": [
    "# download Volatile's repository from GitHub\n",
    "!git clone https://github.com/gianlucadetommaso/volatile.git"
   ]
  },
  {
   "cell_type": "code",
   "execution_count": null,
   "metadata": {
    "id": "qbTwP-iSficL"
   },
   "outputs": [],
   "source": [
    "# access Volatile's main directory\n",
    "%cd volatile"
   ]
  },
  {
   "cell_type": "code",
   "execution_count": null,
   "metadata": {
    "id": "5qph0CC87qa0"
   },
   "outputs": [],
   "source": [
    "# run Volatile. Files may be saved in the current directory. Click on the folder \n",
    "# icon on the left and follow the current path to access them.\n",
    "!python volatile.py"
   ]
  },
  {
   "cell_type": "code",
   "execution_count": null,
   "metadata": {
    "id": "UIgG4x73o254"
   },
   "outputs": [],
   "source": [
    "# run the bot-tournament. Files may be saved in the current directory. Click on the folder \n",
    "# icon on the left and follow the current path to access them.\n",
    "!python tournament.py"
   ]
  },
  {
   "cell_type": "code",
   "execution_count": null,
   "metadata": {
    "id": "oJWoncOT0Gt6"
   },
   "outputs": [],
   "source": []
  }
 ],
 "metadata": {
  "colab": {
   "collapsed_sections": [],
   "name": "Volatile.ipynb",
   "provenance": []
  },
  "kernelspec": {
   "display_name": "Python 3",
   "language": "python",
   "name": "python3"
  },
  "language_info": {
   "codemirror_mode": {
    "name": "ipython",
    "version": 3
   },
   "file_extension": ".py",
   "mimetype": "text/x-python",
   "name": "python",
   "nbconvert_exporter": "python",
   "pygments_lexer": "ipython3",
   "version": "3.8.5"
  }
 },
 "nbformat": 4,
 "nbformat_minor": 1
}
